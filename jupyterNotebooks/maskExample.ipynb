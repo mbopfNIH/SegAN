{
 "cells": [
  {
   "cell_type": "code",
   "execution_count": null,
   "metadata": {},
   "outputs": [],
   "source": [
    "from __future__ import print_function\n",
    "from PIL import Image, ImageDraw\n",
    "import os\n",
    "label = Image.open('outputs/label_val.png')\n",
    "label = label.convert(\"RGBA\")\n",
    "data = label.getdata()\n",
    "\n",
    "ldata = []\n",
    "for item in data:\n",
    "    if (item[0] == 0 and item[1] == 0 and item[2] == 0):\n",
    "        ldata.append((0, 0, 0, 0))\n",
    "    else:\n",
    "        ldata.append((0, 0, 255, 255))\n",
    "\n",
    "lmask = Image.new(\"RGBA\", label.size)\n",
    "lmask.putdata(ldata)\n",
    "lmask.show()\n",
    "\n",
    "result = Image.open('outputs/result_val.png')\n",
    "result = result.convert(\"RGBA\")\n",
    "data = result.getdata()\n",
    "\n",
    "ldata = []\n",
    "for item in data:\n",
    "    if (item[0] == 0 and item[1] == 0 and item[2] == 0):\n",
    "        ldata.append((0, 0, 0, 0))\n",
    "    else:\n",
    "        ldata.append((255, 0, 0, 255))\n",
    "\n",
    "rmask = Image.new(\"RGBA\", result.size)\n",
    "rmask.putdata(ldata)\n",
    "rmask.show()\n",
    "\n",
    "out = Image.blend(lmask, rmask, 0.5)\n",
    "out.show()\n",
    "\n",
    "input = Image.open('outputs/input_val.png')\n",
    "input.show()\n",
    "input.paste(out, (0,0), out)\n",
    "input.show()"
   ]
  }
 ],
 "metadata": {
  "kernelspec": {
   "display_name": "Python [conda env:pytorch27]",
   "language": "python",
   "name": "conda-env-pytorch27-py"
  },
  "language_info": {
   "codemirror_mode": {
    "name": "ipython",
    "version": 2
   },
   "file_extension": ".py",
   "mimetype": "text/x-python",
   "name": "python",
   "nbconvert_exporter": "python",
   "pygments_lexer": "ipython2",
   "version": "2.7.14"
  }
 },
 "nbformat": 4,
 "nbformat_minor": 2
}
